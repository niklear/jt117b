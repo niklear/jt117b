{
 "cells": [
  {
   "cell_type": "markdown",
   "metadata": {},
   "source": [
    "https://raw.githubusercontent.com/niklear/jt117b/main/20210912.ipynb"
   ]
  },
  {
   "cell_type": "markdown",
   "metadata": {},
   "source": [
    "# General - Lists"
   ]
  },
  {
   "cell_type": "code",
   "execution_count": null,
   "metadata": {},
   "outputs": [],
   "source": [
    "l = []\n",
    "\n",
    "l = [1, \"abc\", 4321.0, True, set(), dict()]\n",
    "print(l)\n",
    "print(l[1])\n",
    "print(l[-4])\n",
    "print(len(l))\n",
    "print(\"First 2 elements:\", l[:2])\n",
    "print(\"--------------\")\n",
    "print(\"1 in l:\", 1 in l)\n",
    "print(\"2 in l:\", 2 in l)\n",
    "print('\"bcd\" not in l:', \"bcd\" not in l)\n",
    "print(\"l.index(4321.0):\", l.index(4321.0))\n",
    "print(\"--------------\")\n",
    "\n",
    "l = list(range(5))\n",
    "print(l)\n",
    "l += [99]\n",
    "print(l)\n",
    "l += [[123,456]]\n",
    "print(l)"
   ]
  },
  {
   "cell_type": "code",
   "execution_count": null,
   "metadata": {},
   "outputs": [],
   "source": [
    "l = [10, 20, 1, 3, 4, -1]\n",
    "print(min(l), max(l), sum(l))\n",
    "print(\"----------\")\n",
    "\n",
    "# l = [10, 20, \"hello\"]\n",
    "# print(min(l), max(l), sum(l))"
   ]
  },
  {
   "cell_type": "markdown",
   "metadata": {},
   "source": [
    "### Practice 1\n",
    "Write a function named `count_strings` that returns the number of strings in a list.\n",
    "\n",
    "- `count_strings([123, 234, 0, -234, \"abc\"]) == 1`\n",
    "- `count_strings([123, 234, 0, \"abc\", -234, \"def\"]) == 2`\n",
    "- `count_strings([123]) == 0`\n",
    "- `count_strings([]) == 0`"
   ]
  },
  {
   "cell_type": "code",
   "execution_count": null,
   "metadata": {},
   "outputs": [],
   "source": [
    "# code here"
   ]
  },
  {
   "cell_type": "markdown",
   "metadata": {},
   "source": [
    "### Practice 2\n",
    "Write a function named `get_biggest_item` that returns the biggest number in a list.\n",
    "\n",
    "Try not to create a new list in your code!\n",
    "\n",
    "- `get_biggest_item([123, 234, 0, -234]) == 234`\n",
    "- `get_biggest_item([123, 234, 0, -234, \"abc\"]) == 234`\n",
    "- `get_biggest_item([123]) == 123`\n",
    "- `get_biggest_item([]) == None`\n",
    "- `get_biggest_item([123, 234, 0, -234, \"abc\", 234.5]) == 234.5`"
   ]
  },
  {
   "cell_type": "code",
   "execution_count": null,
   "metadata": {},
   "outputs": [],
   "source": [
    "# code here"
   ]
  },
  {
   "cell_type": "markdown",
   "metadata": {},
   "source": [
    "### Practice 3\n",
    "Write a function named `remove_duplicates` that returns a list without any duplicates.\n",
    "\n",
    "Retain the order (i.e. keep first appearance)\n",
    "\n",
    "- `remove_duplicates([123, 234, 123]) == [123, 234]`\n",
    "- `remove_duplicates([123, 234]) == [123, 234]`\n",
    "- `remove_duplicates([123, 234, \"abc\", \"ab\"]) == [123, 234, \"abc\", \"ab\"]`\n",
    "- `remove_duplicates([123, 234, 123.0, \"abc\", \"ab\"]) == [123, 234, 123.0, \"abc\", \"ab\"]`\n",
    "- `remove_duplicates([]) == []`"
   ]
  },
  {
   "cell_type": "code",
   "execution_count": null,
   "metadata": {},
   "outputs": [],
   "source": [
    "# code here"
   ]
  },
  {
   "cell_type": "markdown",
   "metadata": {},
   "source": [
    "### Practice 4\n",
    "Write a function named `return_difference` that returns a list containing items from the first list that doesn't appear in the second.\n",
    "\n",
    "Order doesn't matter.\n",
    "\n",
    "- `return_difference([123, 234, 123], [123]) == [234]`\n",
    "- `return_difference([123, 234, 123], [\"abc\", \"def\", 123]) == 234`\n",
    "- `return_difference([123, 234], []) == [123, 234]`"
   ]
  },
  {
   "cell_type": "code",
   "execution_count": null,
   "metadata": {},
   "outputs": [],
   "source": [
    "# code here"
   ]
  },
  {
   "cell_type": "markdown",
   "metadata": {},
   "source": [
    "### Practice 5\n",
    "Write a function named `keep_ints` that returns a list that contains only integers (int).\n",
    "\n",
    "Retain the order of the list.\n",
    "\n",
    "- `keep_ints([123, 234, 123]) == [123, 234, 123]`\n",
    "- `keep_ints([123, 234, \"abc\"]) == [123, 234]`\n",
    "- `keep_ints([123, \"abc\", \"ab\", 234.0]) == [123]`\n",
    "- `keep_ints([]) == []`"
   ]
  },
  {
   "cell_type": "code",
   "execution_count": null,
   "metadata": {},
   "outputs": [],
   "source": [
    "# code here"
   ]
  },
  {
   "cell_type": "markdown",
   "metadata": {},
   "source": [
    "### Practice 6a\n",
    "Write a function named `same_length` that returns if the two input lists are of the same length.\n",
    "\n",
    "Returns a boolean value (i.e. `True`/`False`)\n",
    "\n",
    "- `same_length([123, 234, 123], [123, 234, 123]) == True`\n",
    "- `same_length([123, 234, 123], [\"abc\", \"def\", 123]) == True`\n",
    "- `same_length([123, 234, 123], [123, 234]) == False`\n",
    "- `same_length([123, 234], [123, 234, 123]) == False`\n",
    "- `same_length([], []) == True`"
   ]
  },
  {
   "cell_type": "code",
   "execution_count": null,
   "metadata": {},
   "outputs": [],
   "source": [
    "# code here"
   ]
  },
  {
   "cell_type": "markdown",
   "metadata": {},
   "source": [
    "### Practice 6b\n",
    "Write a function named `contains_only_int` that returns if the input list contains only integers.\n",
    "\n",
    "Returns a boolean value (i.e. `True`/`False`)\n",
    "\n",
    "- `contains_only_int([123, 234, 123]) == True`\n",
    "- `contains_only_int([\"abc\", \"def\", 123]) == False`\n",
    "- `contains_only_int([]) == True`"
   ]
  },
  {
   "cell_type": "code",
   "execution_count": null,
   "metadata": {},
   "outputs": [],
   "source": [
    "# code here"
   ]
  },
  {
   "cell_type": "markdown",
   "metadata": {},
   "source": [
    "### Practice 6c\n",
    "Write a function named `everything_is_smaller_or_equal` that returns if every corresponding element in the first input list is smaller than (or equal to) the element in the second input list.\n",
    "\n",
    "Assume input lists are of equal lengths and contains only integers. Returns a boolean value (i.e. `True`/`False`)\n",
    "\n",
    "- `everything_is_smaller_or_equal([123, 234, 123], [234, 345, 678]) == True`\n",
    "- `everything_is_smaller_or_equal([123, 234, 123], [12, 345, 678]) == False`\n",
    "- `everything_is_smaller_or_equal([123, 234, 123], [234, 123, 678]) == False`"
   ]
  },
  {
   "cell_type": "code",
   "execution_count": null,
   "metadata": {},
   "outputs": [],
   "source": [
    "# code here"
   ]
  },
  {
   "cell_type": "markdown",
   "metadata": {},
   "source": [
    "### Practice 6\n",
    "Write a function named `smaller_or_equal` that returns if every corresponding element in the first input list is smaller than (or equal to) the element in the second input list.\n",
    "\n",
    "Returns a boolean value (i.e. `True`/`False`).\n",
    "\n",
    "If input lists are of not of lengths or doesn't contain only integers, return False."
   ]
  },
  {
   "cell_type": "code",
   "execution_count": null,
   "metadata": {},
   "outputs": [],
   "source": [
    "# code here"
   ]
  },
  {
   "cell_type": "markdown",
   "metadata": {},
   "source": [
    "### Sorting a list - what's the diff?"
   ]
  },
  {
   "cell_type": "code",
   "execution_count": null,
   "metadata": {},
   "outputs": [],
   "source": [
    "l = [10, 20, 1, 3, 4, -1]\n",
    "print(l)\n",
    "\n",
    "l = [10, 20, 1, 3, 4, -1]\n",
    "l.sort()\n",
    "print(l)"
   ]
  },
  {
   "cell_type": "markdown",
   "metadata": {},
   "source": [
    "### Warning - Aliases"
   ]
  },
  {
   "cell_type": "code",
   "execution_count": null,
   "metadata": {},
   "outputs": [],
   "source": [
    "a = [1, 2, 3, 4]\n",
    "b = a\n",
    "\n",
    "b[2] = 10\n",
    "\n",
    "print(a)\n",
    "print(b)"
   ]
  },
  {
   "cell_type": "code",
   "execution_count": null,
   "metadata": {},
   "outputs": [],
   "source": [
    "a = [1, 2, 3, 4]\n",
    "b = a.copy()\n",
    "\n",
    "b[2] = 10\n",
    "\n",
    "print(a)\n",
    "print(b)"
   ]
  },
  {
   "cell_type": "markdown",
   "metadata": {},
   "source": [
    "### Inserting/Removing an item"
   ]
  },
  {
   "cell_type": "code",
   "execution_count": null,
   "metadata": {},
   "outputs": [],
   "source": [
    "# Inserting\n",
    "print(\"Inserting Part 1:\")\n",
    "l = list(range(10))\n",
    "print(l)\n",
    "l.insert(3, 100)\n",
    "print(l)\n",
    "print(\"-------\")\n",
    "\n",
    "print(\"Inserting Part 2:\")\n",
    "a = list(range(10))\n",
    "b = a[:3] + [100] + a[3:]\n",
    "print(a)\n",
    "print(b)\n",
    "print(\"-------\")\n",
    "\n",
    "print(\"Removing:\")\n",
    "a = list(range(10))\n",
    "a.pop()     # Removes last item\n",
    "print(a)\n",
    "a.pop(3)\n",
    "print(a)\n",
    "a.pop(3)\n",
    "print(a)\n"
   ]
  },
  {
   "cell_type": "markdown",
   "metadata": {},
   "source": [
    "### Lists to strings and vice-versa"
   ]
  },
  {
   "cell_type": "code",
   "execution_count": null,
   "metadata": {},
   "outputs": [],
   "source": [
    "a = [\"hello\", \"world\"]\n",
    "print(\" \".join(a))\n",
    "\n",
    "# b = [\"hello\", \"world\", 123]   # 123 is an int\n",
    "# print(\" \".join(b))\n",
    "\n",
    "s = list(\"bah bah black sheep\")\n",
    "print(s)\n",
    "print(\"\".join(s))\n",
    "\n",
    "s = \"bah bah black sheep\"\n",
    "print(s.split(\" \"))"
   ]
  },
  {
   "cell_type": "markdown",
   "metadata": {},
   "source": [
    "### PRACTICE 7 - Rehash\n",
    "Write a function named `count_words_starting_with_vowel` that counts the number of words starting with a vowel.\n",
    "\n",
    "- `count_words_starting_with_vowel(\"hello this is quite lame\") == 1`\n",
    "- `count_words_starting_with_vowel(\"Oh wow this is great!\") == 2`\n",
    "- `count_words_starting_with_vowel(\"huh\") == 0`"
   ]
  },
  {
   "cell_type": "code",
   "execution_count": null,
   "metadata": {},
   "outputs": [],
   "source": [
    "# code here"
   ]
  }
 ],
 "metadata": {
  "kernelspec": {
   "display_name": "Python 3",
   "language": "python",
   "name": "python3"
  },
  "language_info": {
   "codemirror_mode": {
    "name": "ipython",
    "version": 3
   },
   "file_extension": ".py",
   "mimetype": "text/x-python",
   "name": "python",
   "nbconvert_exporter": "python",
   "pygments_lexer": "ipython3",
   "version": "3.8.5"
  }
 },
 "nbformat": 4,
 "nbformat_minor": 4
}
