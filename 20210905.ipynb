{
 "cells": [
  {
   "cell_type": "markdown",
   "metadata": {},
   "source": [
    "https://raw.githubusercontent.com/niklear/jt117b/main/20210905.ipynb"
   ]
  },
  {
   "cell_type": "markdown",
   "metadata": {},
   "source": [
    "# General - Function Definitions"
   ]
  },
  {
   "cell_type": "code",
   "execution_count": null,
   "metadata": {},
   "outputs": [],
   "source": [
    "def is_divisible(n, d):\n",
    "    return (n % d == 0)\n",
    "\n",
    "print(is_divisible(4, 2))\n",
    "print(is_divisible(2, 4))\n",
    "print(is_divisible(11, 3))\n",
    "print(is_divisible(12, 3))"
   ]
  },
  {
   "cell_type": "code",
   "execution_count": null,
   "metadata": {},
   "outputs": [],
   "source": [
    "def is_divisible(n, d):\n",
    "    return (n % d == 0)\n",
    "\n",
    "# What if we don't call \"print\"?\n",
    "is_divisible(4, 2)\n",
    "is_divisible(2, 4)\n",
    "is_divisible(11, 3)\n",
    "is_divisible(12, 3)"
   ]
  },
  {
   "cell_type": "code",
   "execution_count": null,
   "metadata": {},
   "outputs": [],
   "source": [
    "def is_divisible(n, d):\n",
    "    print(n % d == 0)\n",
    "\n",
    "# What if we use \"print\" instead of \"return\"?\n",
    "print(is_divisible(4, 2))\n",
    "print(is_divisible(2, 4))\n",
    "print(is_divisible(11, 3))\n",
    "print(is_divisible(12, 3))"
   ]
  },
  {
   "cell_type": "code",
   "execution_count": null,
   "metadata": {},
   "outputs": [],
   "source": [
    "def is_divisible(n, d):\n",
    "    print(n % d == 0)\n",
    "\n",
    "# What if we use \"print\" instead of \"return\" AND not call print below?\n",
    "is_divisible(4, 2)\n",
    "is_divisible(2, 4)\n",
    "is_divisible(11, 3)\n",
    "is_divisible(12, 3)\n",
    "\n",
    "def is_divisible_and_smaller_than_ten(n, d):\n",
    "    if n > 10 and is_divisible(n, d):\n",
    "        print(\"YES\")\n",
    "        \n",
    "is_divisible_and_greater_than_ten(12, 3)"
   ]
  },
  {
   "cell_type": "markdown",
   "metadata": {},
   "source": [
    "# General - For Loops"
   ]
  },
  {
   "cell_type": "code",
   "execution_count": null,
   "metadata": {},
   "outputs": [],
   "source": [
    "def sum_from_m_to_n(m, n):\n",
    "    total = 0\n",
    "    # range(x, y) includes x but excludes y\n",
    "    for x in range(m, n+1):\n",
    "        total += x\n",
    "    return (total)\n",
    "\n",
    "print(sum_from_m_to_n(5, 10) == 5+6+7+8+9+10)"
   ]
  },
  {
   "cell_type": "code",
   "execution_count": null,
   "metadata": {
    "scrolled": true
   },
   "outputs": [],
   "source": [
    "def print_every_char(s):\n",
    "    for i in s:\n",
    "        print(i*3)     # i*3; --\n",
    "        \n",
    "print_every_char(\"jalan\")"
   ]
  },
  {
   "cell_type": "markdown",
   "metadata": {},
   "source": [
    "START ===============\n",
    "\n"
   ]
  },
  {
   "cell_type": "markdown",
   "metadata": {},
   "source": [
    "# PRACTICE 1\n",
    "Write a function named `factorial` that returns the product of all positive integers less than or equal to the input number.\n",
    "\n",
    "- `factorial(3) == 1*2*3`\n",
    "\n",
    "- `factorial(5) == 1*2*3*4*5`\n",
    "\n",
    "- Optional: what should happen if the input is negative or 0?"
   ]
  },
  {
   "cell_type": "code",
   "execution_count": null,
   "metadata": {},
   "outputs": [],
   "source": [
    "# code here"
   ]
  },
  {
   "cell_type": "markdown",
   "metadata": {},
   "source": [
    "END ===============\n",
    "\n"
   ]
  },
  {
   "cell_type": "markdown",
   "metadata": {},
   "source": [
    "# EXAMPLES: _is_prime_ and derivatives"
   ]
  },
  {
   "cell_type": "code",
   "execution_count": null,
   "metadata": {},
   "outputs": [],
   "source": [
    "def is_prime(n):\n",
    "    return 42\n",
    "\n",
    "print(is_prime(42))\n",
    "print(is_prime(7))\n",
    "print(is_prime(13))\n",
    "print(is_prime(15))\n",
    "print(is_prime(101))"
   ]
  },
  {
   "cell_type": "code",
   "execution_count": null,
   "metadata": {},
   "outputs": [],
   "source": [
    "def faster_is_prime(n):\n",
    "    return 42\n",
    "\n",
    "print(faster_is_prime(42))\n",
    "print(faster_is_prime(7))\n",
    "print(faster_is_prime(13))\n",
    "print(faster_is_prime(15))\n",
    "print(faster_is_prime(101))"
   ]
  },
  {
   "cell_type": "code",
   "execution_count": null,
   "metadata": {},
   "outputs": [],
   "source": [
    "is_prime(1010809)   # 1010809, or 10101023, or 102030407"
   ]
  },
  {
   "cell_type": "code",
   "execution_count": null,
   "metadata": {},
   "outputs": [],
   "source": [
    "faster_is_prime(1010809)   # 1010809, or 10101023, or 102030407"
   ]
  },
  {
   "cell_type": "markdown",
   "metadata": {},
   "source": [
    "# General - Strings"
   ]
  },
  {
   "cell_type": "code",
   "execution_count": null,
   "metadata": {},
   "outputs": [],
   "source": [
    "q = \"hello\"\n",
    "r = \" world!\"\n",
    "s = q + r       # string concatenation; s = \"hello world!\"\n",
    "\n",
    "print(\"First 3 characters of s:\", s[:3])\n",
    "print(\"2nd-7th characters of s:\", s[1:7])\n",
    "\n",
    "print(\"Length of s is:\", len(s))          # length of string\n",
    "print(\"s is alphanumeric:\", s.isalnum())\n",
    "print(\"s is lowercased:\", s.islower())\n",
    "print(\"s is uppercased:\", s.isupper())\n",
    "print(\"s starts with 'hell'\", s.startswith(\"hell\"))\n"
   ]
  },
  {
   "cell_type": "markdown",
   "metadata": {},
   "source": [
    "START ===============\n",
    "\n"
   ]
  },
  {
   "cell_type": "markdown",
   "metadata": {},
   "source": [
    "# PRACTICE 2\n",
    "Write a function named `first_last_two_char` that returns the first and last two characters of the input string as a single string.\n",
    "\n",
    "- `first_last_two_char(\"hello world!\") == \"hed!\"`\n",
    "\n",
    "- `first_last_two_char(\"bah bah black sheep\") == \"baep\"`\n",
    "\n",
    "- Optional: what should happen if the input is less than 4 characters?"
   ]
  },
  {
   "cell_type": "code",
   "execution_count": null,
   "metadata": {},
   "outputs": [],
   "source": [
    "def first_last_two_char(input_str):\n",
    "    return 42\n",
    "\n",
    "first_last_two_char(\"hello world!\")"
   ]
  },
  {
   "cell_type": "markdown",
   "metadata": {},
   "source": [
    "END ===============\n",
    "\n"
   ]
  },
  {
   "cell_type": "markdown",
   "metadata": {},
   "source": [
    "# PRACTICE 3\n",
    "Write a function named `my_length` that takes in a string and returns the length of it without using `len()`"
   ]
  },
  {
   "cell_type": "code",
   "execution_count": null,
   "metadata": {},
   "outputs": [],
   "source": [
    "# code here"
   ]
  },
  {
   "cell_type": "markdown",
   "metadata": {},
   "source": [
    "END ===============\n",
    "\n"
   ]
  },
  {
   "cell_type": "markdown",
   "metadata": {},
   "source": [
    "# PRACTICE 4\n",
    "Write a function named `adding_ing` that changes the word to end with \"ing\" if it ends with \"e\".\n",
    "\n",
    "- `adding_ing(\"love\") == \"loving\"`\n",
    "- `adding_ing(\"move\") == \"moving\"`\n",
    "- `adding_ing(\"eat\") == \"eating\"`"
   ]
  },
  {
   "cell_type": "code",
   "execution_count": null,
   "metadata": {},
   "outputs": [],
   "source": [
    "# code here"
   ]
  },
  {
   "cell_type": "markdown",
   "metadata": {},
   "source": [
    "# PRACTICE 6\n",
    "Write a function named `count_words_starting_with_vowel` that counts the number of words starting with a vowel.\n",
    "\n",
    "- `count_words_starting_with_vowel(\"hello this is quite lame\") == 1`\n",
    "- `count_words_starting_with_vowel(\"Oh wow this is great!\") == 2`\n",
    "- `count_words_starting_with_vowel(\"huh\") == 0`"
   ]
  },
  {
   "cell_type": "code",
   "execution_count": null,
   "metadata": {},
   "outputs": [],
   "source": [
    "# code here"
   ]
  }
 ],
 "metadata": {
  "kernelspec": {
   "display_name": "Python 3",
   "language": "python",
   "name": "python3"
  },
  "language_info": {
   "codemirror_mode": {
    "name": "ipython",
    "version": 3
   },
   "file_extension": ".py",
   "mimetype": "text/x-python",
   "name": "python",
   "nbconvert_exporter": "python",
   "pygments_lexer": "ipython3",
   "version": "3.8.5"
  }
 },
 "nbformat": 4,
 "nbformat_minor": 4
}
